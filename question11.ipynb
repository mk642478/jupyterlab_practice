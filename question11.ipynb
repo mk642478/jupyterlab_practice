{
 "cells": [
  {
   "cell_type": "markdown",
   "id": "7b03943c-f268-4d13-b7a7-cff47fa4fd29",
   "metadata": {},
   "source": [
    "<h1>Mayesha Khan</h1>\n",
    "Notebook for assignment 7"
   ]
  },
  {
   "cell_type": "code",
   "execution_count": 2,
   "id": "34dc399f-4faa-4f7a-ab51-d9181be071a2",
   "metadata": {},
   "outputs": [
    {
     "name": "stdout",
     "output_type": "stream",
     "text": [
      "5.0\n"
     ]
    }
   ],
   "source": [
    "def compute_mean(data):\n",
    "    if not data:\n",
    "        return None\n",
    "    return sum(data) / len(data)\n",
    "\n",
    "# Test the function\n",
    "result = compute_mean([2, 4, 6, 8])\n",
    "print(result)"
   ]
  },
  {
   "cell_type": "markdown",
   "id": "512fe7ce-20c1-4186-8ec8-397e40178801",
   "metadata": {},
   "source": [
    "The code above creates a function to compute mean from a string of values, and then executes it when called.\n",
    "\n",
    "$\\bar{x}$ = $\\frac{{x_1} + {x_2} + ... + {x_n}}{n}$ = $\\frac{1}{n}$($\\sum_{i=1}^{n} x_i$)\n",
    "\n",
    "\n",
    "\n",
    "\n",
    " "
   ]
  }
 ],
 "metadata": {
  "kernelspec": {
   "display_name": "Python 3 (ipykernel)",
   "language": "python",
   "name": "python3"
  },
  "language_info": {
   "codemirror_mode": {
    "name": "ipython",
    "version": 3
   },
   "file_extension": ".py",
   "mimetype": "text/x-python",
   "name": "python",
   "nbconvert_exporter": "python",
   "pygments_lexer": "ipython3",
   "version": "3.12.2"
  }
 },
 "nbformat": 4,
 "nbformat_minor": 5
}
